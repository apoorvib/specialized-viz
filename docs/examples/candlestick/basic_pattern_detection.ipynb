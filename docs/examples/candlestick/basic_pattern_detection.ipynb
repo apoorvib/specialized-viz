{
 "cells": [
  {
   "cell_type": "markdown",
   "metadata": {},
   "source": [
    " # Basic Candlestick Pattern Detection\n",
    " \n",
    " This notebook demonstrates the basic candlestick pattern detection functionalities from the \n",
    " `patternforge.candlestick.patterns` module. We'll cover:\n",
    " \n",
    " 1. Setting up the environment\n",
    " 2. Loading sample data\n",
    " 3. Basic single-candle patterns\n",
    " 4. Two-candle patterns\n",
    " 5. Three-candle patterns\n",
    " 6. Visualizing detected patterns\n"
   ]
  },
  {
   "cell_type": "markdown",
   "metadata": {},
   "source": [
    "## 1. Setting up the environment"
   ]
  },
  {
   "cell_type": "code",
   "execution_count": null,
   "metadata": {},
   "outputs": [],
   "source": [
    "import pandas as pd\n",
    "import numpy as np\n",
    "import matplotlib.pyplot as plt\n",
    "import matplotlib.dates as mdates\n",
    "import yfinance as yf\n",
    "from datetime import datetime, timedelta\n",
    "import sys\n",
    "import os\n",
    "\n",
    "# Add the parent directory to the path so we can import the patternforge module\n",
    "sys.path.append(os.path.abspath(os.path.join(os.getcwd(), '..')))\n",
    "from patternforge.candlestick.patterns import CandlestickPatterns\n",
    "\n",
    "# Set up plotting\n",
    "plt.style.use('ggplot')\n",
    "plt.rcParams['figure.figsize'] = [12, 8]\n",
    "plt.rcParams['font.size'] = 12"
   ]
  },
  {
   "cell_type": "markdown",
   "metadata": {},
   "source": [
    "## 2. Loading sample data\n",
    "We'll use Yahoo Finance to get some historical stock data for our analysis."
   ]
  },
  {
   "cell_type": "code",
   "execution_count": null,
   "metadata": {},
   "outputs": [],
   "source": [
    "# Define date range\n",
    "end_date = datetime.now()\n",
    "start_date = end_date - timedelta(days=365)  # One year of data\n",
    "\n",
    "# Download data for Apple\n",
    "symbol = 'AAPL'\n",
    "data = yf.download(symbol, start=start_date, end=end_date)\n",
    "\n",
    "# Display the first few rows\n",
    "print(f\"Downloaded {len(data)} rows of data for {symbol}\")\n",
    "data.head()"
   ]
  }
 ],
 "metadata": {
  "kernelspec": {
   "display_name": "algo",
   "language": "python",
   "name": "python3"
  },
  "language_info": {
   "name": "python",
   "version": "3.12.3"
  }
 },
 "nbformat": 4,
 "nbformat_minor": 2
}
