{
 "cells": [
  {
   "cell_type": "markdown",
   "metadata": {},
   "source": [
    "# Market Regime Detection with Clustering Techniques\n",
    "## This tutorial demonstrates how to use the `ClusteringMarketRegimeAnalyzer` class to detect and analyze market regimes using unsupervised learning techniques.\n",
    "### 1. Setup and Installation\n"
   ]
  },
  {
   "cell_type": "code",
   "execution_count": 1,
   "metadata": {},
   "outputs": [],
   "source": [
    "# Import necessary libraries\n",
    "import pandas as pd\n",
    "import numpy as np\n",
    "import matplotlib.pyplot as plt\n",
    "import seaborn as sns\n",
    "import yfinance as yf\n",
    "from datetime import datetime, timedelta\n",
    "import sys\n",
    "import os\n",
    "\n",
    "# Import the ClusteringMarketRegimeAnalyzer class\n",
    "project_root = os.path.abspath(os.path.join(os.getcwd(), '..', '..', '..'))\n",
    "sys.path.append(project_root)\n",
    "\n",
    "from patternforge.candlestick.clustering_market_regime import (\n",
    "    ClusteringMarketRegimeAnalyzer, \n",
    "    ClusteringConfig, \n",
    "    ClusteringMarketRegime\n",
    ")\n",
    "\n",
    "from patternforge.candlestick.visualization import (\n",
    "    CandlestickVisualizer,\n",
    "    VisualizationConfig,\n",
    "    BaseVisualizationSettings\n",
    ")\n",
    "\n",
    "\n",
    "# Set up visualization preferences\n",
    "plt.style.use('seaborn-v0_8-whitegrid')\n",
    "plt.rcParams['figure.figsize'] = [12, 8]\n",
    "sns.set_palette(\"colorblind\")\n",
    "\n",
    "# Configure logging\n",
    "import logging\n",
    "logging.basicConfig(level=logging.INFO, format='%(asctime)s - %(name)s - %(levelname)s - %(message)s')\n"
   ]
  },
  {
   "cell_type": "markdown",
   "metadata": {},
   "source": [
    "### 2. Data Acquisition and Preperation"
   ]
  },
  {
   "cell_type": "code",
   "execution_count": 2,
   "metadata": {},
   "outputs": [
    {
     "name": "stdout",
     "output_type": "stream",
     "text": [
      "Visualization environment initialized successfully\n"
     ]
    }
   ],
   "source": [
    "# Setup visualization environment\n",
    "def initialize_visualization_environment():\n",
    "    \"\"\"Initialize visualization config and settings\"\"\"\n",
    "    # Create default config\n",
    "    default_config = VisualizationConfig()\n",
    "    \n",
    "    # Create custom config with different color scheme\n",
    "    custom_config = VisualizationConfig(\n",
    "        color_scheme={\n",
    "            'bullish': '#00cc00',  # Bright green\n",
    "            'bearish': '#cc0000',  # Bright red\n",
    "            'neutral': '#0066cc',  # Blue\n",
    "            'complex': '#9900cc',  # Purple\n",
    "            'volume_up': '#00cc00',\n",
    "            'volume_down': '#cc0000',\n",
    "            'background': '#ffffff',\n",
    "            'text': '#000000'\n",
    "        },\n",
    "        theme='plotly_white',\n",
    "        default_height=600,\n",
    "        default_width=1000,\n",
    "        pattern_opacity=0.8,\n",
    "        show_grid=True\n",
    "    )\n",
    "    \n",
    "    # Create base settings\n",
    "    base_settings = BaseVisualizationSettings(default_config)\n",
    "    \n",
    "    return {\n",
    "        'default_config': default_config,\n",
    "        'custom_config': custom_config,\n",
    "        'base_settings': base_settings\n",
    "    }\n",
    "\n",
    "# Initialize environment\n",
    "try:\n",
    "    viz_env = initialize_visualization_environment()\n",
    "    print(\"Visualization environment initialized successfully\")\n",
    "except Exception as e:\n",
    "    print(f\"Error initializing visualization environment: {str(e)}\")"
   ]
  },
  {
   "cell_type": "code",
   "execution_count": 3,
   "metadata": {},
   "outputs": [
    {
     "name": "stdout",
     "output_type": "stream",
     "text": [
      "Downloaded 250 rows of AAPL data\n",
      "Downloaded 250 rows of MSFT data\n",
      "Created synthetic trending dataset with 200 data points\n",
      "Created synthetic ranging dataset with 200 data points\n",
      "Created synthetic volatile dataset with 200 data points\n",
      "Successfully loaded sample datasets\n"
     ]
    }
   ],
   "source": [
    "# Data loading functions\n",
    "import yfinance as yf\n",
    "\n",
    "def load_stock_data(symbol='AAPL', period='6mo', interval='1d'):\n",
    "    \"\"\"Load stock data from Yahoo Finance\"\"\"\n",
    "    ticker = yf.Ticker(symbol)\n",
    "    df = ticker.history(period=period, interval=interval)\n",
    "    print(f\"Downloaded {len(df)} rows of {symbol} data\")\n",
    "    return df\n",
    "\n",
    "def load_from_csv(file_path):\n",
    "    \"\"\"Load data from a CSV file\"\"\"\n",
    "    df = pd.read_csv(file_path, index_col=0, parse_dates=True)\n",
    "    print(f\"Loaded {len(df)} rows from {file_path}\")\n",
    "    return df\n",
    "\n",
    "def create_sample_dataset(trend_type='trending', length=200):\n",
    "    \"\"\"Create a synthetic dataset with specific characteristics\"\"\"\n",
    "    np.random.seed(42)  # For reproducibility\n",
    "    \n",
    "    # Create date range\n",
    "    end_date = datetime.now()\n",
    "    start_date = end_date - timedelta(days=length)\n",
    "    dates = pd.date_range(start=start_date, end=end_date, periods=length)\n",
    "    \n",
    "    # Base price\n",
    "    close = np.zeros(length)\n",
    "    \n",
    "    if trend_type == 'trending':\n",
    "        # Create uptrend\n",
    "        for i in range(length):\n",
    "            close[i] = 100 + i * 0.5 + np.random.normal(0, 2)\n",
    "    \n",
    "    elif trend_type == 'ranging':\n",
    "        # Create range-bound market\n",
    "        for i in range(length):\n",
    "            close[i] = 100 + 10 * np.sin(i/20) + np.random.normal(0, 2)\n",
    "    \n",
    "    elif trend_type == 'volatile':\n",
    "        # Create volatile market\n",
    "        for i in range(length):\n",
    "            close[i] = 100 + 5 * np.sin(i/10) + np.random.normal(0, 5)\n",
    "    \n",
    "    # Generate OHLC data\n",
    "    high = close + np.random.uniform(0.5, 3, size=length)\n",
    "    low = close - np.random.uniform(0.5, 3, size=length)\n",
    "    open_price = low + np.random.uniform(0, 1, size=length) * (high - low)\n",
    "    \n",
    "    # Generate volume\n",
    "    volume = np.random.uniform(1000, 5000, size=length)\n",
    "    \n",
    "    # Create DataFrame\n",
    "    df = pd.DataFrame({\n",
    "        'Open': open_price,\n",
    "        'High': high,\n",
    "        'Low': low,\n",
    "        'Close': close,\n",
    "        'Volume': volume\n",
    "    }, index=dates)\n",
    "    \n",
    "    print(f\"Created synthetic {trend_type} dataset with {length} data points\")\n",
    "    return df\n",
    "\n",
    "# Load sample data\n",
    "try:\n",
    "    # For daily data over the course of a year:\n",
    "    apple_data = load_stock_data('AAPL', '1y')\n",
    "    msft_data = load_stock_data('MSFT', '1y')\n",
    "    trending_data = create_sample_dataset('trending')\n",
    "    ranging_data = create_sample_dataset('ranging')\n",
    "    volatile_data = create_sample_dataset('volatile')\n",
    "    \n",
    "    # # For weekly data over the course of 15 years:\n",
    "    # apple_data = load_stock_data('AAPL', '15y', \"1wk\")\n",
    "    # msft_data = load_stock_data('MSFT', '15y', \"1wk\")\n",
    "    # trending_data = create_sample_dataset('trending')\n",
    "    # ranging_data = create_sample_dataset('ranging')\n",
    "    # volatile_data = create_sample_dataset('volatile')\n",
    "    \n",
    "    df = apple_data.copy()\n",
    "    \n",
    "    \n",
    "    print(\"Successfully loaded sample datasets\")\n",
    "except Exception as e:\n",
    "    print(f\"Error loading data: {str(e)}\")"
   ]
  },
  {
   "cell_type": "code",
   "execution_count": 10,
   "metadata": {},
   "outputs": [
    {
     "name": "stdout",
     "output_type": "stream",
     "text": [
      "Downloaded 250 data points for SPY from 2024-03-19 to 2025-03-18\n",
      "Creating Plotly candlestick chart...\n",
      "Creating Matplotlib candlestick chart...\n"
     ]
    },
    {
     "data": {
      "application/vnd.plotly.v1+json": {
       "config": {
        "plotlyServerURL": "https://plot.ly"
       },
       "data": [
        {
         "close": {
          "bdata": "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",
          "dtype": "f8"
         },
         "high": {
          "bdata": "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",
          "dtype": "f8"
         },
         "low": {
          "bdata": "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",
          "dtype": "f8"
         },
         "name": "OHLC",
         "open": {
          "bdata": "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",
          "dtype": "f8"
         },
         "type": "candlestick",
         "x": [
          "2024-03-19T00:00:00-04:00",
          "2024-03-20T00:00:00-04:00",
          "2024-03-21T00:00:00-04:00",
          "2024-03-22T00:00:00-04:00",
          "2024-03-25T00:00:00-04:00",
          "2024-03-26T00:00:00-04:00",
          "2024-03-27T00:00:00-04:00",
          "2024-03-28T00:00:00-04:00",
          "2024-04-01T00:00:00-04:00",
          "2024-04-02T00:00:00-04:00",
          "2024-04-03T00:00:00-04:00",
          "2024-04-04T00:00:00-04:00",
          "2024-04-05T00:00:00-04:00",
          "2024-04-08T00:00:00-04:00",
          "2024-04-09T00:00:00-04:00",
          "2024-04-10T00:00:00-04:00",
          "2024-04-11T00:00:00-04:00",
          "2024-04-12T00:00:00-04:00",
          "2024-04-15T00:00:00-04:00",
          "2024-04-16T00:00:00-04:00",
          "2024-04-17T00:00:00-04:00",
          "2024-04-18T00:00:00-04:00",
          "2024-04-19T00:00:00-04:00",
          "2024-04-22T00:00:00-04:00",
          "2024-04-23T00:00:00-04:00",
          "2024-04-24T00:00:00-04:00",
          "2024-04-25T00:00:00-04:00",
          "2024-04-26T00:00:00-04:00",
          "2024-04-29T00:00:00-04:00",
          "2024-04-30T00:00:00-04:00",
          "2024-05-01T00:00:00-04:00",
          "2024-05-02T00:00:00-04:00",
          "2024-05-03T00:00:00-04:00",
          "2024-05-06T00:00:00-04:00",
          "2024-05-07T00:00:00-04:00",
          "2024-05-08T00:00:00-04:00",
          "2024-05-09T00:00:00-04:00",
          "2024-05-10T00:00:00-04:00",
          "2024-05-13T00:00:00-04:00",
          "2024-05-14T00:00:00-04:00",
          "2024-05-15T00:00:00-04:00",
          "2024-05-16T00:00:00-04:00",
          "2024-05-17T00:00:00-04:00",
          "2024-05-20T00:00:00-04:00",
          "2024-05-21T00:00:00-04:00",
          "2024-05-22T00:00:00-04:00",
          "2024-05-23T00:00:00-04:00",
          "2024-05-24T00:00:00-04:00",
          "2024-05-28T00:00:00-04:00",
          "2024-05-29T00:00:00-04:00",
          "2024-05-30T00:00:00-04:00",
          "2024-05-31T00:00:00-04:00",
          "2024-06-03T00:00:00-04:00",
          "2024-06-04T00:00:00-04:00",
          "2024-06-05T00:00:00-04:00",
          "2024-06-06T00:00:00-04:00",
          "2024-06-07T00:00:00-04:00",
          "2024-06-10T00:00:00-04:00",
          "2024-06-11T00:00:00-04:00",
          "2024-06-12T00:00:00-04:00",
          "2024-06-13T00:00:00-04:00",
          "2024-06-14T00:00:00-04:00",
          "2024-06-17T00:00:00-04:00",
          "2024-06-18T00:00:00-04:00",
          "2024-06-20T00:00:00-04:00",
          "2024-06-21T00:00:00-04:00",
          "2024-06-24T00:00:00-04:00",
          "2024-06-25T00:00:00-04:00",
          "2024-06-26T00:00:00-04:00",
          "2024-06-27T00:00:00-04:00",
          "2024-06-28T00:00:00-04:00",
          "2024-07-01T00:00:00-04:00",
          "2024-07-02T00:00:00-04:00",
          "2024-07-03T00:00:00-04:00",
          "2024-07-05T00:00:00-04:00",
          "2024-07-08T00:00:00-04:00",
          "2024-07-09T00:00:00-04:00",
          "2024-07-10T00:00:00-04:00",
          "2024-07-11T00:00:00-04:00",
          "2024-07-12T00:00:00-04:00",
          "2024-07-15T00:00:00-04:00",
          "2024-07-16T00:00:00-04:00",
          "2024-07-17T00:00:00-04:00",
          "2024-07-18T00:00:00-04:00",
          "2024-07-19T00:00:00-04:00",
          "2024-07-22T00:00:00-04:00",
          "2024-07-23T00:00:00-04:00",
          "2024-07-24T00:00:00-04:00",
          "2024-07-25T00:00:00-04:00",
          "2024-07-26T00:00:00-04:00",
          "2024-07-29T00:00:00-04:00",
          "2024-07-30T00:00:00-04:00",
          "2024-07-31T00:00:00-04:00",
          "2024-08-01T00:00:00-04:00",
          "2024-08-02T00:00:00-04:00",
          "2024-08-05T00:00:00-04:00",
          "2024-08-06T00:00:00-04:00",
          "2024-08-07T00:00:00-04:00",
          "2024-08-08T00:00:00-04:00",
          "2024-08-09T00:00:00-04:00",
          "2024-08-12T00:00:00-04:00",
          "2024-08-13T00:00:00-04:00",
          "2024-08-14T00:00:00-04:00",
          "2024-08-15T00:00:00-04:00",
          "2024-08-16T00:00:00-04:00",
          "2024-08-19T00:00:00-04:00",
          "2024-08-20T00:00:00-04:00",
          "2024-08-21T00:00:00-04:00",
          "2024-08-22T00:00:00-04:00",
          "2024-08-23T00:00:00-04:00",
          "2024-08-26T00:00:00-04:00",
          "2024-08-27T00:00:00-04:00",
          "2024-08-28T00:00:00-04:00",
          "2024-08-29T00:00:00-04:00",
          "2024-08-30T00:00:00-04:00",
          "2024-09-03T00:00:00-04:00",
          "2024-09-04T00:00:00-04:00",
          "2024-09-05T00:00:00-04:00",
          "2024-09-06T00:00:00-04:00",
          "2024-09-09T00:00:00-04:00",
          "2024-09-10T00:00:00-04:00",
          "2024-09-11T00:00:00-04:00",
          "2024-09-12T00:00:00-04:00",
          "2024-09-13T00:00:00-04:00",
          "2024-09-16T00:00:00-04:00",
          "2024-09-17T00:00:00-04:00",
          "2024-09-18T00:00:00-04:00",
          "2024-09-19T00:00:00-04:00",
          "2024-09-20T00:00:00-04:00",
          "2024-09-23T00:00:00-04:00",
          "2024-09-24T00:00:00-04:00",
          "2024-09-25T00:00:00-04:00",
          "2024-09-26T00:00:00-04:00",
          "2024-09-27T00:00:00-04:00",
          "2024-09-30T00:00:00-04:00",
          "2024-10-01T00:00:00-04:00",
          "2024-10-02T00:00:00-04:00",
          "2024-10-03T00:00:00-04:00",
          "2024-10-04T00:00:00-04:00",
          "2024-10-07T00:00:00-04:00",
          "2024-10-08T00:00:00-04:00",
          "2024-10-09T00:00:00-04:00",
          "2024-10-10T00:00:00-04:00",
          "2024-10-11T00:00:00-04:00",
          "2024-10-14T00:00:00-04:00",
          "2024-10-15T00:00:00-04:00",
          "2024-10-16T00:00:00-04:00",
          "2024-10-17T00:00:00-04:00",
          "2024-10-18T00:00:00-04:00",
          "2024-10-21T00:00:00-04:00",
          "2024-10-22T00:00:00-04:00",
          "2024-10-23T00:00:00-04:00",
          "2024-10-24T00:00:00-04:00",
          "2024-10-25T00:00:00-04:00",
          "2024-10-28T00:00:00-04:00",
          "2024-10-29T00:00:00-04:00",
          "2024-10-30T00:00:00-04:00",
          "2024-10-31T00:00:00-04:00",
          "2024-11-01T00:00:00-04:00",
          "2024-11-04T00:00:00-05:00",
          "2024-11-05T00:00:00-05:00",
          "2024-11-06T00:00:00-05:00",
          "2024-11-07T00:00:00-05:00",
          "2024-11-08T00:00:00-05:00",
          "2024-11-11T00:00:00-05:00",
          "2024-11-12T00:00:00-05:00",
          "2024-11-13T00:00:00-05:00",
          "2024-11-14T00:00:00-05:00",
          "2024-11-15T00:00:00-05:00",
          "2024-11-18T00:00:00-05:00",
          "2024-11-19T00:00:00-05:00",
          "2024-11-20T00:00:00-05:00",
          "2024-11-21T00:00:00-05:00",
          "2024-11-22T00:00:00-05:00",
          "2024-11-25T00:00:00-05:00",
          "2024-11-26T00:00:00-05:00",
          "2024-11-27T00:00:00-05:00",
          "2024-11-29T00:00:00-05:00",
          "2024-12-02T00:00:00-05:00",
          "2024-12-03T00:00:00-05:00",
          "2024-12-04T00:00:00-05:00",
          "2024-12-05T00:00:00-05:00",
          "2024-12-06T00:00:00-05:00",
          "2024-12-09T00:00:00-05:00",
          "2024-12-10T00:00:00-05:00",
          "2024-12-11T00:00:00-05:00",
          "2024-12-12T00:00:00-05:00",
          "2024-12-13T00:00:00-05:00",
          "2024-12-16T00:00:00-05:00",
          "2024-12-17T00:00:00-05:00",
          "2024-12-18T00:00:00-05:00",
          "2024-12-19T00:00:00-05:00",
          "2024-12-20T00:00:00-05:00",
          "2024-12-23T00:00:00-05:00",
          "2024-12-24T00:00:00-05:00",
          "2024-12-26T00:00:00-05:00",
          "2024-12-27T00:00:00-05:00",
          "2024-12-30T00:00:00-05:00",
          "2024-12-31T00:00:00-05:00",
          "2025-01-02T00:00:00-05:00",
          "2025-01-03T00:00:00-05:00",
          "2025-01-06T00:00:00-05:00",
          "2025-01-07T00:00:00-05:00",
          "2025-01-08T00:00:00-05:00",
          "2025-01-10T00:00:00-05:00",
          "2025-01-13T00:00:00-05:00",
          "2025-01-14T00:00:00-05:00",
          "2025-01-15T00:00:00-05:00",
          "2025-01-16T00:00:00-05:00",
          "2025-01-17T00:00:00-05:00",
          "2025-01-21T00:00:00-05:00",
          "2025-01-22T00:00:00-05:00",
          "2025-01-23T00:00:00-05:00",
          "2025-01-24T00:00:00-05:00",
          "2025-01-27T00:00:00-05:00",
          "2025-01-28T00:00:00-05:00",
          "2025-01-29T00:00:00-05:00",
          "2025-01-30T00:00:00-05:00",
          "2025-01-31T00:00:00-05:00",
          "2025-02-03T00:00:00-05:00",
          "2025-02-04T00:00:00-05:00",
          "2025-02-05T00:00:00-05:00",
          "2025-02-06T00:00:00-05:00",
          "2025-02-07T00:00:00-05:00",
          "2025-02-10T00:00:00-05:00",
          "2025-02-11T00:00:00-05:00",
          "2025-02-12T00:00:00-05:00",
          "2025-02-13T00:00:00-05:00",
          "2025-02-14T00:00:00-05:00",
          "2025-02-18T00:00:00-05:00",
          "2025-02-19T00:00:00-05:00",
          "2025-02-20T00:00:00-05:00",
          "2025-02-21T00:00:00-05:00",
          "2025-02-24T00:00:00-05:00",
          "2025-02-25T00:00:00-05:00",
          "2025-02-26T00:00:00-05:00",
          "2025-02-27T00:00:00-05:00",
          "2025-02-28T00:00:00-05:00",
          "2025-03-03T00:00:00-05:00",
          "2025-03-04T00:00:00-05:00",
          "2025-03-05T00:00:00-05:00",
          "2025-03-06T00:00:00-05:00",
          "2025-03-07T00:00:00-05:00",
          "2025-03-10T00:00:00-04:00",
          "2025-03-11T00:00:00-04:00",
          "2025-03-12T00:00:00-04:00",
          "2025-03-13T00:00:00-04:00",
          "2025-03-14T00:00:00-04:00",
          "2025-03-17T00:00:00-04:00",
          "2025-03-18T00:00:00-04:00"
         ]
        },
        {
         "name": "Volume",
         "type": "bar",
         "x": [
          "2024-03-19T00:00:00-04:00",
          "2024-03-20T00:00:00-04:00",
          "2024-03-21T00:00:00-04:00",
          "2024-03-22T00:00:00-04:00",
          "2024-03-25T00:00:00-04:00",
          "2024-03-26T00:00:00-04:00",
          "2024-03-27T00:00:00-04:00",
          "2024-03-28T00:00:00-04:00",
          "2024-04-01T00:00:00-04:00",
          "2024-04-02T00:00:00-04:00",
          "2024-04-03T00:00:00-04:00",
          "2024-04-04T00:00:00-04:00",
          "2024-04-05T00:00:00-04:00",
          "2024-04-08T00:00:00-04:00",
          "2024-04-09T00:00:00-04:00",
          "2024-04-10T00:00:00-04:00",
          "2024-04-11T00:00:00-04:00",
          "2024-04-12T00:00:00-04:00",
          "2024-04-15T00:00:00-04:00",
          "2024-04-16T00:00:00-04:00",
          "2024-04-17T00:00:00-04:00",
          "2024-04-18T00:00:00-04:00",
          "2024-04-19T00:00:00-04:00",
          "2024-04-22T00:00:00-04:00",
          "2024-04-23T00:00:00-04:00",
          "2024-04-24T00:00:00-04:00",
          "2024-04-25T00:00:00-04:00",
          "2024-04-26T00:00:00-04:00",
          "2024-04-29T00:00:00-04:00",
          "2024-04-30T00:00:00-04:00",
          "2024-05-01T00:00:00-04:00",
          "2024-05-02T00:00:00-04:00",
          "2024-05-03T00:00:00-04:00",
          "2024-05-06T00:00:00-04:00",
          "2024-05-07T00:00:00-04:00",
          "2024-05-08T00:00:00-04:00",
          "2024-05-09T00:00:00-04:00",
          "2024-05-10T00:00:00-04:00",
          "2024-05-13T00:00:00-04:00",
          "2024-05-14T00:00:00-04:00",
          "2024-05-15T00:00:00-04:00",
          "2024-05-16T00:00:00-04:00",
          "2024-05-17T00:00:00-04:00",
          "2024-05-20T00:00:00-04:00",
          "2024-05-21T00:00:00-04:00",
          "2024-05-22T00:00:00-04:00",
          "2024-05-23T00:00:00-04:00",
          "2024-05-24T00:00:00-04:00",
          "2024-05-28T00:00:00-04:00",
          "2024-05-29T00:00:00-04:00",
          "2024-05-30T00:00:00-04:00",
          "2024-05-31T00:00:00-04:00",
          "2024-06-03T00:00:00-04:00",
          "2024-06-04T00:00:00-04:00",
          "2024-06-05T00:00:00-04:00",
          "2024-06-06T00:00:00-04:00",
          "2024-06-07T00:00:00-04:00",
          "2024-06-10T00:00:00-04:00",
          "2024-06-11T00:00:00-04:00",
          "2024-06-12T00:00:00-04:00",
          "2024-06-13T00:00:00-04:00",
          "2024-06-14T00:00:00-04:00",
          "2024-06-17T00:00:00-04:00",
          "2024-06-18T00:00:00-04:00",
          "2024-06-20T00:00:00-04:00",
          "2024-06-21T00:00:00-04:00",
          "2024-06-24T00:00:00-04:00",
          "2024-06-25T00:00:00-04:00",
          "2024-06-26T00:00:00-04:00",
          "2024-06-27T00:00:00-04:00",
          "2024-06-28T00:00:00-04:00",
          "2024-07-01T00:00:00-04:00",
          "2024-07-02T00:00:00-04:00",
          "2024-07-03T00:00:00-04:00",
          "2024-07-05T00:00:00-04:00",
          "2024-07-08T00:00:00-04:00",
          "2024-07-09T00:00:00-04:00",
          "2024-07-10T00:00:00-04:00",
          "2024-07-11T00:00:00-04:00",
          "2024-07-12T00:00:00-04:00",
          "2024-07-15T00:00:00-04:00",
          "2024-07-16T00:00:00-04:00",
          "2024-07-17T00:00:00-04:00",
          "2024-07-18T00:00:00-04:00",
          "2024-07-19T00:00:00-04:00",
          "2024-07-22T00:00:00-04:00",
          "2024-07-23T00:00:00-04:00",
          "2024-07-24T00:00:00-04:00",
          "2024-07-25T00:00:00-04:00",
          "2024-07-26T00:00:00-04:00",
          "2024-07-29T00:00:00-04:00",
          "2024-07-30T00:00:00-04:00",
          "2024-07-31T00:00:00-04:00",
          "2024-08-01T00:00:00-04:00",
          "2024-08-02T00:00:00-04:00",
          "2024-08-05T00:00:00-04:00",
          "2024-08-06T00:00:00-04:00",
          "2024-08-07T00:00:00-04:00",
          "2024-08-08T00:00:00-04:00",
          "2024-08-09T00:00:00-04:00",
          "2024-08-12T00:00:00-04:00",
          "2024-08-13T00:00:00-04:00",
          "2024-08-14T00:00:00-04:00",
          "2024-08-15T00:00:00-04:00",
          "2024-08-16T00:00:00-04:00",
          "2024-08-19T00:00:00-04:00",
          "2024-08-20T00:00:00-04:00",
          "2024-08-21T00:00:00-04:00",
          "2024-08-22T00:00:00-04:00",
          "2024-08-23T00:00:00-04:00",
          "2024-08-26T00:00:00-04:00",
          "2024-08-27T00:00:00-04:00",
          "2024-08-28T00:00:00-04:00",
          "2024-08-29T00:00:00-04:00",
          "2024-08-30T00:00:00-04:00",
          "2024-09-03T00:00:00-04:00",
          "2024-09-04T00:00:00-04:00",
          "2024-09-05T00:00:00-04:00",
          "2024-09-06T00:00:00-04:00",
          "2024-09-09T00:00:00-04:00",
          "2024-09-10T00:00:00-04:00",
          "2024-09-11T00:00:00-04:00",
          "2024-09-12T00:00:00-04:00",
          "2024-09-13T00:00:00-04:00",
          "2024-09-16T00:00:00-04:00",
          "2024-09-17T00:00:00-04:00",
          "2024-09-18T00:00:00-04:00",
          "2024-09-19T00:00:00-04:00",
          "2024-09-20T00:00:00-04:00",
          "2024-09-23T00:00:00-04:00",
          "2024-09-24T00:00:00-04:00",
          "2024-09-25T00:00:00-04:00",
          "2024-09-26T00:00:00-04:00",
          "2024-09-27T00:00:00-04:00",
          "2024-09-30T00:00:00-04:00",
          "2024-10-01T00:00:00-04:00",
          "2024-10-02T00:00:00-04:00",
          "2024-10-03T00:00:00-04:00",
          "2024-10-04T00:00:00-04:00",
          "2024-10-07T00:00:00-04:00",
          "2024-10-08T00:00:00-04:00",
          "2024-10-09T00:00:00-04:00",
          "2024-10-10T00:00:00-04:00",
          "2024-10-11T00:00:00-04:00",
          "2024-10-14T00:00:00-04:00",
          "2024-10-15T00:00:00-04:00",
          "2024-10-16T00:00:00-04:00",
          "2024-10-17T00:00:00-04:00",
          "2024-10-18T00:00:00-04:00",
          "2024-10-21T00:00:00-04:00",
          "2024-10-22T00:00:00-04:00",
          "2024-10-23T00:00:00-04:00",
          "2024-10-24T00:00:00-04:00",
          "2024-10-25T00:00:00-04:00",
          "2024-10-28T00:00:00-04:00",
          "2024-10-29T00:00:00-04:00",
          "2024-10-30T00:00:00-04:00",
          "2024-10-31T00:00:00-04:00",
          "2024-11-01T00:00:00-04:00",
          "2024-11-04T00:00:00-05:00",
          "2024-11-05T00:00:00-05:00",
          "2024-11-06T00:00:00-05:00",
          "2024-11-07T00:00:00-05:00",
          "2024-11-08T00:00:00-05:00",
          "2024-11-11T00:00:00-05:00",
          "2024-11-12T00:00:00-05:00",
          "2024-11-13T00:00:00-05:00",
          "2024-11-14T00:00:00-05:00",
          "2024-11-15T00:00:00-05:00",
          "2024-11-18T00:00:00-05:00",
          "2024-11-19T00:00:00-05:00",
          "2024-11-20T00:00:00-05:00",
          "2024-11-21T00:00:00-05:00",
          "2024-11-22T00:00:00-05:00",
          "2024-11-25T00:00:00-05:00",
          "2024-11-26T00:00:00-05:00",
          "2024-11-27T00:00:00-05:00",
          "2024-11-29T00:00:00-05:00",
          "2024-12-02T00:00:00-05:00",
          "2024-12-03T00:00:00-05:00",
          "2024-12-04T00:00:00-05:00",
          "2024-12-05T00:00:00-05:00",
          "2024-12-06T00:00:00-05:00",
          "2024-12-09T00:00:00-05:00",
          "2024-12-10T00:00:00-05:00",
          "2024-12-11T00:00:00-05:00",
          "2024-12-12T00:00:00-05:00",
          "2024-12-13T00:00:00-05:00",
          "2024-12-16T00:00:00-05:00",
          "2024-12-17T00:00:00-05:00",
          "2024-12-18T00:00:00-05:00",
          "2024-12-19T00:00:00-05:00",
          "2024-12-20T00:00:00-05:00",
          "2024-12-23T00:00:00-05:00",
          "2024-12-24T00:00:00-05:00",
          "2024-12-26T00:00:00-05:00",
          "2024-12-27T00:00:00-05:00",
          "2024-12-30T00:00:00-05:00",
          "2024-12-31T00:00:00-05:00",
          "2025-01-02T00:00:00-05:00",
          "2025-01-03T00:00:00-05:00",
          "2025-01-06T00:00:00-05:00",
          "2025-01-07T00:00:00-05:00",
          "2025-01-08T00:00:00-05:00",
          "2025-01-10T00:00:00-05:00",
          "2025-01-13T00:00:00-05:00",
          "2025-01-14T00:00:00-05:00",
          "2025-01-15T00:00:00-05:00",
          "2025-01-16T00:00:00-05:00",
          "2025-01-17T00:00:00-05:00",
          "2025-01-21T00:00:00-05:00",
          "2025-01-22T00:00:00-05:00",
          "2025-01-23T00:00:00-05:00",
          "2025-01-24T00:00:00-05:00",
          "2025-01-27T00:00:00-05:00",
          "2025-01-28T00:00:00-05:00",
          "2025-01-29T00:00:00-05:00",
          "2025-01-30T00:00:00-05:00",
          "2025-01-31T00:00:00-05:00",
          "2025-02-03T00:00:00-05:00",
          "2025-02-04T00:00:00-05:00",
          "2025-02-05T00:00:00-05:00",
          "2025-02-06T00:00:00-05:00",
          "2025-02-07T00:00:00-05:00",
          "2025-02-10T00:00:00-05:00",
          "2025-02-11T00:00:00-05:00",
          "2025-02-12T00:00:00-05:00",
          "2025-02-13T00:00:00-05:00",
          "2025-02-14T00:00:00-05:00",
          "2025-02-18T00:00:00-05:00",
          "2025-02-19T00:00:00-05:00",
          "2025-02-20T00:00:00-05:00",
          "2025-02-21T00:00:00-05:00",
          "2025-02-24T00:00:00-05:00",
          "2025-02-25T00:00:00-05:00",
          "2025-02-26T00:00:00-05:00",
          "2025-02-27T00:00:00-05:00",
          "2025-02-28T00:00:00-05:00",
          "2025-03-03T00:00:00-05:00",
          "2025-03-04T00:00:00-05:00",
          "2025-03-05T00:00:00-05:00",
          "2025-03-06T00:00:00-05:00",
          "2025-03-07T00:00:00-05:00",
          "2025-03-10T00:00:00-04:00",
          "2025-03-11T00:00:00-04:00",
          "2025-03-12T00:00:00-04:00",
          "2025-03-13T00:00:00-04:00",
          "2025-03-14T00:00:00-04:00",
          "2025-03-17T00:00:00-04:00",
          "2025-03-18T00:00:00-04:00"
         ],
         "y": {
          "bdata": "YIRKA/wrLwO0MlQGKAA9BKxfPANwrWsDlLKXA/wV6gP0ksECXLXwArS31wLQdjMDILaBAlwROwIAwYcC9ID2AlyfbQXUMA4GmAFiBGC+ZATQsAgD1ACSAsQeCgSwMt4CCOPzAphD4AJcdQMDAC6sArguEATQFe4D/MgAA/SanQUkmroJ5OCuBMiXmwRMhK8C2GvrAkyHBgMAUUsEgHYfAwA4MgSQWiYDVO11AlTmpAIYl4UCtLEQAsxJCgPIzykCJLsdA+DAKQP8JPoCHNN6BPQq/AIoW9QCAF46A2hidAIcTSoDFBrMBTQ1RgocSs8LLETVBcz8LQQsLpYFhNbDBFTjIgWYF7AO2MvPBKxiYQNQVfIDnHj3AmyA6wTUrJkD+LZ1A8g3OgLw0ZkDTJSFA0SV3QJ0n7sDyGfbA+RsKQOErbsD/LOTAmwHawOom+8DDP7tAkiA3wLsvmECwKauA+AqEAMUyXoC+BIqAhhvewJMfvsCiLC5A1jZSga4KiAHVO8mBPAuyQMMn88CAPKDAkRDRAKkwaECmESAArA4xALok6QCuNhsAnhTzgG8ehICxLyaAjQrTgLY89IBiFEkAmihRAL8BhgDUJMoAwjZ/QLI8pwC6LQuAljg4gLgFQEEWDcTA1xYqAJYLTwCiAMxAti4iQPEkbYCdOyRA3QA+wNcq/4S0DM6AwSdmAJclIUCHAgvAhAyBwJMPkADCKfFA9i39QEoeQcCrFA4AvjNWgJUFOYBPI8AAswLrgFgm+QBdI1gAigH3AOYDQgCCHL3AQx9xAIkMykCiMBQAhjWHQN8sdoBfBNQAjylJgJwbBwCtD7OArQ11gMcC+QDdMytAsTxrAFMiUADZPiCAuDZSAJg9IAC3G1oArgP5QL8e60C9EHbArDaqQJYjCgCQKUYAoyFggLsZkYCYJ9fBZixvQIgJf8BeJeyAYyD3gLI+FACnD6lAmzeYgLImTIC8EqpAnBGMwIoybECHCX0AeTo+QHQzBQD8KIPA9RNYgN8/aADhJnKCLB0bwKMiGIB7JqfAWRKhgJ8kB4CfG1aAhyJUgOEE2YCYFevAsBpbwLkKz4CNKKtA+xN9QIkvFkCwMlfAvz0RgRsDBUEgG/YBSR+0gMwHJcDrJ9CAyiApwXQNIMEFBC2AjxHUQOcSAYGhNtaBCSsrwLMjlwCtJ/IAUDiXQLQTfkBgK0zA6RbsgIUFjIDyAZwAuT46AKoZesB5B3tAVi6KwPALQ8D9J/cAsAApgJA9HMCeDVjA4D4zwLU5DQD0KLQAuA+sQJAFMICILhLBLjDiQQsZroD7GeoA1ArlQO4it0C+NiGAg==",
          "dtype": "i4"
         },
         "yaxis": "y2"
        }
       ],
       "layout": {
        "template": {
         "data": {
          "bar": [
           {
            "error_x": {
             "color": "#2a3f5f"
            },
            "error_y": {
             "color": "#2a3f5f"
            },
            "marker": {
             "line": {
              "color": "white",
              "width": 0.5
             },
             "pattern": {
              "fillmode": "overlay",
              "size": 10,
              "solidity": 0.2
             }
            },
            "type": "bar"
           }
          ],
          "barpolar": [
           {
            "marker": {
             "line": {
              "color": "white",
              "width": 0.5
             },
             "pattern": {
              "fillmode": "overlay",
              "size": 10,
              "solidity": 0.2
             }
            },
            "type": "barpolar"
           }
          ],
          "carpet": [
           {
            "aaxis": {
             "endlinecolor": "#2a3f5f",
             "gridcolor": "#C8D4E3",
             "linecolor": "#C8D4E3",
             "minorgridcolor": "#C8D4E3",
             "startlinecolor": "#2a3f5f"
            },
            "baxis": {
             "endlinecolor": "#2a3f5f",
             "gridcolor": "#C8D4E3",
             "linecolor": "#C8D4E3",
             "minorgridcolor": "#C8D4E3",
             "startlinecolor": "#2a3f5f"
            },
            "type": "carpet"
           }
          ],
          "choropleth": [
           {
            "colorbar": {
             "outlinewidth": 0,
             "ticks": ""
            },
            "type": "choropleth"
           }
          ],
          "contour": [
           {
            "colorbar": {
             "outlinewidth": 0,
             "ticks": ""
            },
            "colorscale": [
             [
              0,
              "#0d0887"
             ],
             [
              0.1111111111111111,
              "#46039f"
             ],
             [
              0.2222222222222222,
              "#7201a8"
             ],
             [
              0.3333333333333333,
              "#9c179e"
             ],
             [
              0.4444444444444444,
              "#bd3786"
             ],
             [
              0.5555555555555556,
              "#d8576b"
             ],
             [
              0.6666666666666666,
              "#ed7953"
             ],
             [
              0.7777777777777778,
              "#fb9f3a"
             ],
             [
              0.8888888888888888,
              "#fdca26"
             ],
             [
              1,
              "#f0f921"
             ]
            ],
            "type": "contour"
           }
          ],
          "contourcarpet": [
           {
            "colorbar": {
             "outlinewidth": 0,
             "ticks": ""
            },
            "type": "contourcarpet"
           }
          ],
          "heatmap": [
           {
            "colorbar": {
             "outlinewidth": 0,
             "ticks": ""
            },
            "colorscale": [
             [
              0,
              "#0d0887"
             ],
             [
              0.1111111111111111,
              "#46039f"
             ],
             [
              0.2222222222222222,
              "#7201a8"
             ],
             [
              0.3333333333333333,
              "#9c179e"
             ],
             [
              0.4444444444444444,
              "#bd3786"
             ],
             [
              0.5555555555555556,
              "#d8576b"
             ],
             [
              0.6666666666666666,
              "#ed7953"
             ],
             [
              0.7777777777777778,
              "#fb9f3a"
             ],
             [
              0.8888888888888888,
              "#fdca26"
             ],
             [
              1,
              "#f0f921"
             ]
            ],
            "type": "heatmap"
           }
          ],
          "histogram": [
           {
            "marker": {
             "pattern": {
              "fillmode": "overlay",
              "size": 10,
              "solidity": 0.2
             }
            },
            "type": "histogram"
           }
          ],
          "histogram2d": [
           {
            "colorbar": {
             "outlinewidth": 0,
             "ticks": ""
            },
            "colorscale": [
             [
              0,
              "#0d0887"
             ],
             [
              0.1111111111111111,
              "#46039f"
             ],
             [
              0.2222222222222222,
              "#7201a8"
             ],
             [
              0.3333333333333333,
              "#9c179e"
             ],
             [
              0.4444444444444444,
              "#bd3786"
             ],
             [
              0.5555555555555556,
              "#d8576b"
             ],
             [
              0.6666666666666666,
              "#ed7953"
             ],
             [
              0.7777777777777778,
              "#fb9f3a"
             ],
             [
              0.8888888888888888,
              "#fdca26"
             ],
             [
              1,
              "#f0f921"
             ]
            ],
            "type": "histogram2d"
           }
          ],
          "histogram2dcontour": [
           {
            "colorbar": {
             "outlinewidth": 0,
             "ticks": ""
            },
            "colorscale": [
             [
              0,
              "#0d0887"
             ],
             [
              0.1111111111111111,
              "#46039f"
             ],
             [
              0.2222222222222222,
              "#7201a8"
             ],
             [
              0.3333333333333333,
              "#9c179e"
             ],
             [
              0.4444444444444444,
              "#bd3786"
             ],
             [
              0.5555555555555556,
              "#d8576b"
             ],
             [
              0.6666666666666666,
              "#ed7953"
             ],
             [
              0.7777777777777778,
              "#fb9f3a"
             ],
             [
              0.8888888888888888,
              "#fdca26"
             ],
             [
              1,
              "#f0f921"
             ]
            ],
            "type": "histogram2dcontour"
           }
          ],
          "mesh3d": [
           {
            "colorbar": {
             "outlinewidth": 0,
             "ticks": ""
            },
            "type": "mesh3d"
           }
          ],
          "parcoords": [
           {
            "line": {
             "colorbar": {
              "outlinewidth": 0,
              "ticks": ""
             }
            },
            "type": "parcoords"
           }
          ],
          "pie": [
           {
            "automargin": true,
            "type": "pie"
           }
          ],
          "scatter": [
           {
            "fillpattern": {
             "fillmode": "overlay",
             "size": 10,
             "solidity": 0.2
            },
            "type": "scatter"
           }
          ],
          "scatter3d": [
           {
            "line": {
             "colorbar": {
              "outlinewidth": 0,
              "ticks": ""
             }
            },
            "marker": {
             "colorbar": {
              "outlinewidth": 0,
              "ticks": ""
             }
            },
            "type": "scatter3d"
           }
          ],
          "scattercarpet": [
           {
            "marker": {
             "colorbar": {
              "outlinewidth": 0,
              "ticks": ""
             }
            },
            "type": "scattercarpet"
           }
          ],
          "scattergeo": [
           {
            "marker": {
             "colorbar": {
              "outlinewidth": 0,
              "ticks": ""
             }
            },
            "type": "scattergeo"
           }
          ],
          "scattergl": [
           {
            "marker": {
             "colorbar": {
              "outlinewidth": 0,
              "ticks": ""
             }
            },
            "type": "scattergl"
           }
          ],
          "scattermap": [
           {
            "marker": {
             "colorbar": {
              "outlinewidth": 0,
              "ticks": ""
             }
            },
            "type": "scattermap"
           }
          ],
          "scattermapbox": [
           {
            "marker": {
             "colorbar": {
              "outlinewidth": 0,
              "ticks": ""
             }
            },
            "type": "scattermapbox"
           }
          ],
          "scatterpolar": [
           {
            "marker": {
             "colorbar": {
              "outlinewidth": 0,
              "ticks": ""
             }
            },
            "type": "scatterpolar"
           }
          ],
          "scatterpolargl": [
           {
            "marker": {
             "colorbar": {
              "outlinewidth": 0,
              "ticks": ""
             }
            },
            "type": "scatterpolargl"
           }
          ],
          "scatterternary": [
           {
            "marker": {
             "colorbar": {
              "outlinewidth": 0,
              "ticks": ""
             }
            },
            "type": "scatterternary"
           }
          ],
          "surface": [
           {
            "colorbar": {
             "outlinewidth": 0,
             "ticks": ""
            },
            "colorscale": [
             [
              0,
              "#0d0887"
             ],
             [
              0.1111111111111111,
              "#46039f"
             ],
             [
              0.2222222222222222,
              "#7201a8"
             ],
             [
              0.3333333333333333,
              "#9c179e"
             ],
             [
              0.4444444444444444,
              "#bd3786"
             ],
             [
              0.5555555555555556,
              "#d8576b"
             ],
             [
              0.6666666666666666,
              "#ed7953"
             ],
             [
              0.7777777777777778,
              "#fb9f3a"
             ],
             [
              0.8888888888888888,
              "#fdca26"
             ],
             [
              1,
              "#f0f921"
             ]
            ],
            "type": "surface"
           }
          ],
          "table": [
           {
            "cells": {
             "fill": {
              "color": "#EBF0F8"
             },
             "line": {
              "color": "white"
             }
            },
            "header": {
             "fill": {
              "color": "#C8D4E3"
             },
             "line": {
              "color": "white"
             }
            },
            "type": "table"
           }
          ]
         },
         "layout": {
          "annotationdefaults": {
           "arrowcolor": "#2a3f5f",
           "arrowhead": 0,
           "arrowwidth": 1
          },
          "autotypenumbers": "strict",
          "coloraxis": {
           "colorbar": {
            "outlinewidth": 0,
            "ticks": ""
           }
          },
          "colorscale": {
           "diverging": [
            [
             0,
             "#8e0152"
            ],
            [
             0.1,
             "#c51b7d"
            ],
            [
             0.2,
             "#de77ae"
            ],
            [
             0.3,
             "#f1b6da"
            ],
            [
             0.4,
             "#fde0ef"
            ],
            [
             0.5,
             "#f7f7f7"
            ],
            [
             0.6,
             "#e6f5d0"
            ],
            [
             0.7,
             "#b8e186"
            ],
            [
             0.8,
             "#7fbc41"
            ],
            [
             0.9,
             "#4d9221"
            ],
            [
             1,
             "#276419"
            ]
           ],
           "sequential": [
            [
             0,
             "#0d0887"
            ],
            [
             0.1111111111111111,
             "#46039f"
            ],
            [
             0.2222222222222222,
             "#7201a8"
            ],
            [
             0.3333333333333333,
             "#9c179e"
            ],
            [
             0.4444444444444444,
             "#bd3786"
            ],
            [
             0.5555555555555556,
             "#d8576b"
            ],
            [
             0.6666666666666666,
             "#ed7953"
            ],
            [
             0.7777777777777778,
             "#fb9f3a"
            ],
            [
             0.8888888888888888,
             "#fdca26"
            ],
            [
             1,
             "#f0f921"
            ]
           ],
           "sequentialminus": [
            [
             0,
             "#0d0887"
            ],
            [
             0.1111111111111111,
             "#46039f"
            ],
            [
             0.2222222222222222,
             "#7201a8"
            ],
            [
             0.3333333333333333,
             "#9c179e"
            ],
            [
             0.4444444444444444,
             "#bd3786"
            ],
            [
             0.5555555555555556,
             "#d8576b"
            ],
            [
             0.6666666666666666,
             "#ed7953"
            ],
            [
             0.7777777777777778,
             "#fb9f3a"
            ],
            [
             0.8888888888888888,
             "#fdca26"
            ],
            [
             1,
             "#f0f921"
            ]
           ]
          },
          "colorway": [
           "#636efa",
           "#EF553B",
           "#00cc96",
           "#ab63fa",
           "#FFA15A",
           "#19d3f3",
           "#FF6692",
           "#B6E880",
           "#FF97FF",
           "#FECB52"
          ],
          "font": {
           "color": "#2a3f5f"
          },
          "geo": {
           "bgcolor": "white",
           "lakecolor": "white",
           "landcolor": "white",
           "showlakes": true,
           "showland": true,
           "subunitcolor": "#C8D4E3"
          },
          "hoverlabel": {
           "align": "left"
          },
          "hovermode": "closest",
          "mapbox": {
           "style": "light"
          },
          "paper_bgcolor": "white",
          "plot_bgcolor": "white",
          "polar": {
           "angularaxis": {
            "gridcolor": "#EBF0F8",
            "linecolor": "#EBF0F8",
            "ticks": ""
           },
           "bgcolor": "white",
           "radialaxis": {
            "gridcolor": "#EBF0F8",
            "linecolor": "#EBF0F8",
            "ticks": ""
           }
          },
          "scene": {
           "xaxis": {
            "backgroundcolor": "white",
            "gridcolor": "#DFE8F3",
            "gridwidth": 2,
            "linecolor": "#EBF0F8",
            "showbackground": true,
            "ticks": "",
            "zerolinecolor": "#EBF0F8"
           },
           "yaxis": {
            "backgroundcolor": "white",
            "gridcolor": "#DFE8F3",
            "gridwidth": 2,
            "linecolor": "#EBF0F8",
            "showbackground": true,
            "ticks": "",
            "zerolinecolor": "#EBF0F8"
           },
           "zaxis": {
            "backgroundcolor": "white",
            "gridcolor": "#DFE8F3",
            "gridwidth": 2,
            "linecolor": "#EBF0F8",
            "showbackground": true,
            "ticks": "",
            "zerolinecolor": "#EBF0F8"
           }
          },
          "shapedefaults": {
           "line": {
            "color": "#2a3f5f"
           }
          },
          "ternary": {
           "aaxis": {
            "gridcolor": "#DFE8F3",
            "linecolor": "#A2B1C6",
            "ticks": ""
           },
           "baxis": {
            "gridcolor": "#DFE8F3",
            "linecolor": "#A2B1C6",
            "ticks": ""
           },
           "bgcolor": "white",
           "caxis": {
            "gridcolor": "#DFE8F3",
            "linecolor": "#A2B1C6",
            "ticks": ""
           }
          },
          "title": {
           "x": 0.05
          },
          "xaxis": {
           "automargin": true,
           "gridcolor": "#EBF0F8",
           "linecolor": "#EBF0F8",
           "ticks": "",
           "title": {
            "standoff": 15
           },
           "zerolinecolor": "#EBF0F8",
           "zerolinewidth": 2
          },
          "yaxis": {
           "automargin": true,
           "gridcolor": "#EBF0F8",
           "linecolor": "#EBF0F8",
           "ticks": "",
           "title": {
            "standoff": 15
           },
           "zerolinecolor": "#EBF0F8",
           "zerolinewidth": 2
          }
         }
        },
        "title": {
         "text": "Basic Candlestick Chart (Plotly)"
        },
        "xaxis": {
         "title": {
          "text": "Date"
         }
        },
        "yaxis": {
         "title": {
          "text": "Price"
         }
        },
        "yaxis2": {
         "overlaying": "y",
         "side": "right",
         "title": {
          "text": "Volume"
         }
        }
       }
      }
     },
     "metadata": {},
     "output_type": "display_data"
    },
    {
     "data": {
      "image/png": "[encoded data removed]",
      "text/plain": [
       "<Figure size 1400x700 with 1 Axes>"
      ]
     },
     "metadata": {},
     "output_type": "display_data"
    },
    {
     "name": "stdout",
     "output_type": "stream",
     "text": [
      "Basic candlestick charts created successfully\n"
     ]
    },
    {
     "data": {
      "image/png": "[encoded data removed]",
      "text/plain": [
       "<Figure size 1400x700 with 1 Axes>"
      ]
     },
     "metadata": {},
     "output_type": "display_data"
    },
    {
     "data": {
      "image/png": "[encoded data removed]",
      "text/plain": [
       "<Figure size 1400x700 with 1 Axes>"
      ]
     },
     "metadata": {},
     "output_type": "display_data"
    }
   ],
   "source": [
    "# Display data information\n",
    "print(f\"Downloaded {len(df)} data points for {symbol} from {df.index[0].date()} to {df.index[-1].date()}\")\n",
    "df.head()\n",
    "\n",
    "# Basic candlestick chart creation\n",
    "def create_basic_candlestick_charts(data, config):\n",
    "    \"\"\"Create basic candlestick charts using both Plotly and Matplotlib\"\"\"\n",
    "    visualizer = CandlestickVisualizer(data, config)\n",
    "    \n",
    "    # Plotly implementation\n",
    "    print(\"Creating Plotly candlestick chart...\")\n",
    "    plotly_fig = visualizer.create_candlestick_chart(\n",
    "        use_plotly=True,\n",
    "        show_volume=True,\n",
    "        title=\"Basic Candlestick Chart (Plotly)\"\n",
    "    )\n",
    "    \n",
    "    # Matplotlib implementation\n",
    "    print(\"Creating Matplotlib candlestick chart...\")\n",
    "    mpl_fig = visualizer.create_candlestick_chart(\n",
    "        use_plotly=False,\n",
    "        title=\"Basic Candlestick Chart (Matplotlib)\"\n",
    "    )\n",
    "    \n",
    "    return {\n",
    "        'visualizer': visualizer,\n",
    "        'plotly_fig': plotly_fig,\n",
    "        'mpl_fig': mpl_fig\n",
    "    }\n",
    "\n",
    "# Create basic charts\n",
    "try:\n",
    "    basic_charts = create_basic_candlestick_charts(\n",
    "        df, \n",
    "        viz_env['default_config']\n",
    "    )\n",
    "    \n",
    "    # Display Plotly chart\n",
    "    basic_charts['plotly_fig'].show()\n",
    "    \n",
    "    # Display Matplotlib chart (for Jupyter notebook)\n",
    "    from IPython.display import display\n",
    "    display(basic_charts['mpl_fig'])\n",
    "    \n",
    "    print(\"Basic candlestick charts created successfully\")\n",
    "except Exception as e:\n",
    "    print(f\"Error creating basic charts: {str(e)}\")\n",
    "\n",
    "# Visualize the price data\n",
    "plt.figure(figsize=(14, 7))\n",
    "plt.plot(df.index, df['Close'])\n",
    "plt.title(f\"{symbol} Price Chart\")\n",
    "plt.xlabel('Date')\n",
    "plt.ylabel('Price')\n",
    "plt.grid(True)\n",
    "plt.show()"
   ]
  },
  {
   "cell_type": "markdown",
   "metadata": {},
   "source": [
    "### 3. Configuring the Regime Analyzer\n"
   ]
  },
  {
   "cell_type": "code",
   "execution_count": 4,
   "metadata": {},
   "outputs": [],
   "source": [
    "# Create a custom configuration for clustering\n",
    "config = ClusteringConfig(\n",
    "    # Feature extraction parameters\n",
    "    return_periods=[1, 5, 10, 20, 60],\n",
    "    volatility_periods=[5, 10, 20, 60],\n",
    "    volume_periods=[5, 10, 20],\n",
    "    trend_periods=[10, 20, 50, 200],\n",
    "    autocorr_lags=[1, 5, 10, 20],\n",
    "    \n",
    "    # Clustering parameters\n",
    "    n_clusters=5,  # Number of regimes for k-means and GMM\n",
    "    cluster_method='gmm',  # Options: 'gmm', 'kmeans', 'dbscan', 'hierarchical', 'hdbscan', 'som'\n",
    "    \n",
    "    # Feature processing\n",
    "    use_pca=True,\n",
    "    pca_components=10,\n",
    "    use_robust_scaling=True,\n",
    "    \n",
    "    # Custom regime naming (optional)\n",
    "    regime_names={\n",
    "        0: 'bullish_trending',\n",
    "        1: 'bearish_trending',\n",
    "        2: 'high_volatility',\n",
    "        3: 'low_volatility_range',\n",
    "        4: 'transitional'\n",
    "    }\n",
    ")\n",
    "\n",
    "# Initialize the regime analyzer\n",
    "analyzer = ClusteringMarketRegimeAnalyzer(df, config=config)\n"
   ]
  },
  {
   "cell_type": "code",
   "execution_count": 5,
   "metadata": {},
   "outputs": [
    {
     "ename": "AttributeError",
     "evalue": "'ClusteringMarketRegimeAnalyzer' object has no attribute '_load_from_cache'",
     "output_type": "error",
     "traceback": [
      "\u001b[1;31m---------------------------------------------------------------------------\u001b[0m",
      "\u001b[1;31mAttributeError\u001b[0m                            Traceback (most recent call last)",
      "Cell \u001b[1;32mIn[5], line 2\u001b[0m\n\u001b[0;32m      1\u001b[0m \u001b[38;5;66;03m# Detect regimes for the full dataset\u001b[39;00m\n\u001b[1;32m----> 2\u001b[0m regimes \u001b[38;5;241m=\u001b[39m analyzer\u001b[38;5;241m.\u001b[39mdetect_regimes()\n\u001b[0;32m      4\u001b[0m \u001b[38;5;66;03m# Display basic information about the detected regimes\u001b[39;00m\n\u001b[0;32m      5\u001b[0m \u001b[38;5;28mprint\u001b[39m(\u001b[38;5;124mf\u001b[39m\u001b[38;5;124m\"\u001b[39m\u001b[38;5;124mDetected \u001b[39m\u001b[38;5;132;01m{\u001b[39;00m\u001b[38;5;28mlen\u001b[39m(regimes)\u001b[38;5;132;01m}\u001b[39;00m\u001b[38;5;124m distinct regime periods\u001b[39m\u001b[38;5;124m\"\u001b[39m)\n",
      "File \u001b[1;32mc:\\Apoorv\\Projects\\patternforge\\patternforge\\candlestick\\clustering_market_regime.py:257\u001b[0m, in \u001b[0;36mClusteringMarketRegimeAnalyzer.detect_regimes\u001b[1;34m(self, start_date, end_date, force_recompute)\u001b[0m\n\u001b[0;32m    255\u001b[0m \u001b[38;5;66;03m# Check cache first\u001b[39;00m\n\u001b[0;32m    256\u001b[0m cache_key \u001b[38;5;241m=\u001b[39m \u001b[38;5;28mself\u001b[39m\u001b[38;5;241m.\u001b[39m_make_cache_key(start_date, end_date)\n\u001b[1;32m--> 257\u001b[0m \u001b[38;5;28;01mif\u001b[39;00m \u001b[38;5;129;01mnot\u001b[39;00m force_recompute \u001b[38;5;129;01mand\u001b[39;00m \u001b[38;5;28mself\u001b[39m\u001b[38;5;241m.\u001b[39m_load_from_cache(cache_key):\n\u001b[0;32m    258\u001b[0m     \u001b[38;5;28mself\u001b[39m\u001b[38;5;241m.\u001b[39mlogger\u001b[38;5;241m.\u001b[39minfo(\u001b[38;5;124mf\u001b[39m\u001b[38;5;124m\"\u001b[39m\u001b[38;5;124mLoaded regimes from cache for \u001b[39m\u001b[38;5;132;01m{\u001b[39;00mstart_date\u001b[38;5;132;01m}\u001b[39;00m\u001b[38;5;124m to \u001b[39m\u001b[38;5;132;01m{\u001b[39;00mend_date\u001b[38;5;132;01m}\u001b[39;00m\u001b[38;5;124m\"\u001b[39m)\n\u001b[0;32m    259\u001b[0m     \u001b[38;5;28;01mreturn\u001b[39;00m \u001b[38;5;28mself\u001b[39m\u001b[38;5;241m.\u001b[39mregimes\n",
      "\u001b[1;31mAttributeError\u001b[0m: 'ClusteringMarketRegimeAnalyzer' object has no attribute '_load_from_cache'"
     ]
    }
   ],
   "source": [
    "# Detect regimes for the full dataset\n",
    "regimes = analyzer.detect_regimes()\n",
    "\n",
    "# Display basic information about the detected regimes\n",
    "print(f\"Detected {len(regimes)} distinct regime periods\")\n",
    "for i, regime in enumerate(regimes[:5]):  # Display the first 5 regimes\n",
    "    print(f\"Regime {i+1}: {regime.regime_type} from {regime.start_date.date()} to {regime.end_date.date()} \"\n",
    "          f\"(Confidence: {regime.confidence:.2f})\")\n",
    "\n",
    "\n",
    "# In[7]:\n",
    "\n",
    "\n",
    "# Visualize the detected regimes timeline\n",
    "analyzer.plot_regime_timeline(with_prices=True)"
   ]
  },
  {
   "cell_type": "code",
   "execution_count": null,
   "metadata": {},
   "outputs": [],
   "source": []
  }
 ],
 "metadata": {
  "kernelspec": {
   "display_name": "algo",
   "language": "python",
   "name": "python3"
  },
  "language_info": {
   "codemirror_mode": {
    "name": "ipython",
    "version": 3
   },
   "file_extension": ".py",
   "mimetype": "text/x-python",
   "name": "python",
   "nbconvert_exporter": "python",
   "pygments_lexer": "ipython3",
   "version": "3.12.3"
  }
 },
 "nbformat": 4,
 "nbformat_minor": 2
}
