{
 "cells": [
  {
   "cell_type": "markdown",
   "metadata": {},
   "source": [
    " # Basic Candlestick Pattern Detection\n",
    " \n",
    " This notebook demonstrates the basic candlestick pattern detection functionalities from the \n",
    " `patternforge.candlestick.patterns` module. We'll cover:\n",
    " \n",
    " 1. Setting up the environment\n",
    " 2. Loading sample data\n",
    " 3. Basic single-candle patterns\n",
    " 4. Two-candle patterns\n",
    " 5. Three-candle patterns\n",
    " 6. Visualizing detected patterns\n"
   ]
  },
  {
   "cell_type": "markdown",
   "metadata": {},
   "source": [
    "## 1. Setting up the environment"
   ]
  },
  {
   "cell_type": "code",
   "execution_count": null,
   "metadata": {},
   "outputs": [],
   "source": [
    "import pandas as pd\n",
    "import numpy as np\n",
    "import matplotlib.pyplot as plt\n",
    "import matplotlib.dates as mdates\n",
    "import yfinance as yf\n",
    "from datetime import datetime, timedelta\n",
    "import sys\n",
    "import os\n",
    "\n",
    "# Add the parent directory to the path so we can import the patternforge module\n",
    "sys.path.append(os.path.abspath(os.path.join(os.getcwd(), '..')))\n",
    "from patternforge.candlestick.patterns import CandlestickPatterns\n",
    "\n",
    "# Set up plotting\n",
    "plt.style.use('ggplot')\n",
    "plt.rcParams['figure.figsize'] = [12, 8]\n",
    "plt.rcParams['font.size'] = 12"
   ]
  },
  {
   "cell_type": "markdown",
   "metadata": {},
   "source": [
    "## 2. Loading sample data\n",
    "We'll use Yahoo Finance to get some historical stock data for our analysis."
   ]
  },
  {
   "cell_type": "code",
   "execution_count": null,
   "metadata": {},
   "outputs": [],
   "source": [
    "# Define date range\n",
    "end_date = datetime.now()\n",
    "start_date = end_date - timedelta(days=365)  # One year of data\n",
    "\n",
    "# Download data for Apple\n",
    "symbol = 'AAPL'\n",
    "data = yf.download(symbol, start=start_date, end=end_date)\n",
    "\n",
    "# Display the first few rows\n",
    "print(f\"Downloaded {len(data)} rows of data for {symbol}\")\n",
    "data.head()"
   ]
  },
  {
   "cell_type": "markdown",
   "metadata": {},
   "source": [
    "Let's create a helper function for visualizing candlestick data and patterns"
   ]
  },
  {
   "cell_type": "code",
   "execution_count": null,
   "metadata": {},
   "outputs": [],
   "source": [
    "def plot_candlestick_with_patterns(df, patterns_dict, title='Candlestick Chart with Patterns', figsize=(15, 10)):\n",
    "    \"\"\"\n",
    "    Plot candlestick chart with pattern markers\n",
    "    \n",
    "    Args:\n",
    "        df: DataFrame with OHLC data\n",
    "        patterns_dict: Dictionary with pattern name as key and boolean Series as value\n",
    "        title: Chart title\n",
    "        figsize: Figure size\n",
    "    \"\"\"\n",
    "    fig, ax = plt.subplots(figsize=figsize)\n",
    "    \n",
    "    # Plot candlestick\n",
    "    width = 0.6\n",
    "    width2 = width * 0.8\n",
    "    \n",
    "    up = df[df.Close >= df.Open]\n",
    "    down = df[df.Close < df.Open]\n",
    "    \n",
    "    # Plot up candles\n",
    "    ax.bar(up.index, up.Close-up.Open, width=width2, bottom=up.Open, color='green', alpha=0.5)\n",
    "    ax.bar(up.index, up.High-up.Close, width=0.1, bottom=up.Close, color='green', alpha=0.5)\n",
    "    ax.bar(up.index, up.Open-up.Low, width=0.1, bottom=up.Low, color='green', alpha=0.5)\n",
    "    \n",
    "    # Plot down candles\n",
    "    ax.bar(down.index, down.Open-down.Close, width=width2, bottom=down.Close, color='red', alpha=0.5)\n",
    "    ax.bar(down.index, down.High-down.Open, width=0.1, bottom=down.Open, color='red', alpha=0.5)\n",
    "    ax.bar(down.index, down.Close-down.Low, width=0.1, bottom=down.Low, color='red', alpha=0.5)\n",
    "    \n",
    "    # Plot patterns\n",
    "    colors = plt.cm.tab10.colors\n",
    "    marker_y_positions = df['High'] * 1.01  # Just above the highest point\n",
    "    pattern_found = False\n",
    "    \n",
    "    for i, (pattern_name, pattern_series) in enumerate(patterns_dict.items()):\n",
    "        if pattern_series is None or isinstance(pattern_series, tuple):\n",
    "            continue\n",
    "            \n",
    "        pattern_indices = df.index[pattern_series]\n",
    "        if len(pattern_indices) > 0:\n",
    "            pattern_found = True\n",
    "            ax.scatter(pattern_indices, marker_y_positions.loc[pattern_indices], \n",
    "                      marker='^', color=colors[i % len(colors)], s=100, label=pattern_name)\n",
    "    \n",
    "    # Add bullish/bearish pattern tuples\n",
    "    for i, (pattern_name, pattern_tuple) in enumerate(patterns_dict.items()):\n",
    "        if not isinstance(pattern_tuple, tuple):\n",
    "            continue\n",
    "            \n",
    "        bullish, bearish = pattern_tuple\n",
    "        bullish_indices = df.index[bullish]\n",
    "        bearish_indices = df.index[bearish]\n",
    "        \n",
    "        if len(bullish_indices) > 0:\n",
    "            pattern_found = True\n",
    "            ax.scatter(bullish_indices, marker_y_positions.loc[bullish_indices], \n",
    "                      marker='^', color=colors[i % len(colors)], s=100, label=f\"Bullish {pattern_name}\")\n",
    "            \n",
    "        if len(bearish_indices) > 0:\n",
    "            pattern_found = True\n",
    "            ax.scatter(bearish_indices, marker_y_positions.loc[bearish_indices], \n",
    "                      marker='v', color=colors[(i+1) % len(colors)], s=100, label=f\"Bearish {pattern_name}\")\n",
    "    \n",
    "    # Format the chart\n",
    "    ax.set_title(title, fontsize=16)\n",
    "    ax.set_ylabel('Price', fontsize=14)\n",
    "    ax.grid(True, alpha=0.3)\n",
    "    \n",
    "    # Format x-axis with dates\n",
    "    ax.xaxis.set_major_formatter(mdates.DateFormatter('%Y-%m-%d'))\n",
    "    plt.xticks(rotation=45)\n",
    "    \n",
    "    # Add volume as a subplot\n",
    "    if 'Volume' in df.columns:\n",
    "        volume_ax = ax.twinx()\n",
    "        volume_ax.bar(df.index, df.Volume, width=width, alpha=0.3, color='gray')\n",
    "        volume_ax.set_ylabel('Volume', fontsize=14)\n",
    "        volume_ax.set_ylim(0, df.Volume.max() * 4)  # Set upper limit to avoid overlap\n",
    "    \n",
    "    # Show legend only if patterns were found\n",
    "    if pattern_found:\n",
    "        ax.legend(loc='upper left')\n",
    "    \n",
    "    plt.tight_layout()\n",
    "    return fig, ax\n"
   ]
  }
 ],
 "metadata": {
  "kernelspec": {
   "display_name": "algo",
   "language": "python",
   "name": "python3"
  },
  "language_info": {
   "name": "python",
   "version": "3.12.3"
  }
 },
 "nbformat": 4,
 "nbformat_minor": 2
}
