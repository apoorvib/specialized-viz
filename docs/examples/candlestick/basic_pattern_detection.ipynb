{
 "cells": [
  {
   "cell_type": "markdown",
   "metadata": {},
   "source": [
    " # Basic Candlestick Pattern Detection\n",
    " \n",
    " This notebook demonstrates the basic candlestick pattern detection functionalities from the \n",
    " `patternforge.candlestick.patterns` module. We'll cover:\n",
    " \n",
    " 1. Setting up the environment\n",
    " 2. Loading sample data\n",
    " 3. Basic single-candle patterns\n",
    " 4. Two-candle patterns\n",
    " 5. Three-candle patterns\n",
    " 6. Visualizing detected patterns\n"
   ]
  },
  {
   "cell_type": "markdown",
   "metadata": {},
   "source": [
    "## 1. Setting up the environment"
   ]
  },
  {
   "cell_type": "code",
   "execution_count": null,
   "metadata": {},
   "outputs": [],
   "source": [
    "import pandas as pd\n",
    "import numpy as np\n",
    "import matplotlib.pyplot as plt\n",
    "import matplotlib.dates as mdates\n",
    "import yfinance as yf\n",
    "from datetime import datetime, timedelta\n",
    "import sys\n",
    "import os\n",
    "\n",
    "# Add the parent directory to the path so we can import the patternforge module\n",
    "sys.path.append(os.path.abspath(os.path.join(os.getcwd(), '..')))\n",
    "from patternforge.candlestick.patterns import CandlestickPatterns"
   ]
  }
 ],
 "metadata": {
  "kernelspec": {
   "display_name": "algo",
   "language": "python",
   "name": "python3"
  },
  "language_info": {
   "name": "python",
   "version": "3.12.3"
  }
 },
 "nbformat": 4,
 "nbformat_minor": 2
}
